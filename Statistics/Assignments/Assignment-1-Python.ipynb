{
 "cells": [
  {
   "cell_type": "markdown",
   "metadata": {},
   "source": [
    "Name: Ta Xuan Minh Chau"
   ]
  },
  {
   "cell_type": "markdown",
   "metadata": {},
   "source": [
    "Import the Numpy package under the name np"
   ]
  },
  {
   "cell_type": "code",
   "execution_count": 7,
   "metadata": {},
   "outputs": [],
   "source": [
    "import numpy as np"
   ]
  },
  {
   "cell_type": "markdown",
   "metadata": {},
   "source": [
    "Create a null vector of size 10"
   ]
  },
  {
   "cell_type": "code",
   "execution_count": 7,
   "metadata": {},
   "outputs": [
    {
     "data": {
      "text/plain": [
       "array([0., 0., 0., 0., 0., 0., 0., 0., 0., 0.])"
      ]
     },
     "execution_count": 7,
     "metadata": {},
     "output_type": "execute_result"
    }
   ],
   "source": [
    "vector_2 = np.zeros(10)\n",
    "vector_2"
   ]
  },
  {
   "cell_type": "markdown",
   "metadata": {},
   "source": [
    "Create a null vector of size 10 but the fifth value which is 1"
   ]
  },
  {
   "cell_type": "code",
   "execution_count": 8,
   "metadata": {},
   "outputs": [
    {
     "data": {
      "text/plain": [
       "array([0., 0., 0., 0., 1., 0., 0., 0., 0., 0.])"
      ]
     },
     "execution_count": 8,
     "metadata": {},
     "output_type": "execute_result"
    }
   ],
   "source": [
    "vector_3 = np.zeros(10)\n",
    "vector_3[4] = 1\n",
    "vector_3"
   ]
  },
  {
   "cell_type": "markdown",
   "metadata": {},
   "source": [
    "Create a vector with values ranging from 10 to 49"
   ]
  },
  {
   "cell_type": "code",
   "execution_count": 13,
   "metadata": {},
   "outputs": [
    {
     "data": {
      "text/plain": [
       "array([10, 11, 12, 13, 14, 15, 16, 17, 18, 19, 20, 21, 22, 23, 24, 25, 26,\n",
       "       27, 28, 29, 30, 31, 32, 33, 34, 35, 36, 37, 38, 39, 40, 41, 42, 43,\n",
       "       44, 45, 46, 47, 48, 49])"
      ]
     },
     "execution_count": 13,
     "metadata": {},
     "output_type": "execute_result"
    }
   ],
   "source": [
    "vector_4 = np.arange(10,50)\n",
    "vector_4"
   ]
  },
  {
   "cell_type": "markdown",
   "metadata": {},
   "source": [
    "Reverse a vector (the first element becomes last)"
   ]
  },
  {
   "cell_type": "code",
   "execution_count": 15,
   "metadata": {},
   "outputs": [
    {
     "data": {
      "text/plain": [
       "array([49, 48, 47, 46, 45, 44, 43, 42, 41, 40, 39, 38, 37, 36, 35, 34, 33,\n",
       "       32, 31, 30, 29, 28, 27, 26, 25, 24, 23, 22, 21, 20, 19, 18, 17, 16,\n",
       "       15, 14, 13, 12, 11, 10])"
      ]
     },
     "execution_count": 15,
     "metadata": {},
     "output_type": "execute_result"
    }
   ],
   "source": [
    "vector_5 = np.flip(vector_4)\n",
    "vector_5"
   ]
  },
  {
   "cell_type": "markdown",
   "metadata": {},
   "source": [
    "Create a 3x3 matrix with values ranging from 0 to 8"
   ]
  },
  {
   "cell_type": "code",
   "execution_count": 17,
   "metadata": {},
   "outputs": [
    {
     "data": {
      "text/plain": [
       "array([[0, 1, 2],\n",
       "       [3, 4, 5],\n",
       "       [6, 7, 8]])"
      ]
     },
     "execution_count": 17,
     "metadata": {},
     "output_type": "execute_result"
    }
   ],
   "source": [
    "matrix_6 = np.arange(0,9).reshape(3,3)\n",
    "matrix_6"
   ]
  },
  {
   "cell_type": "markdown",
   "metadata": {},
   "source": [
    "Find indices of non¬zero elements from [1,2,0,0,4,0]"
   ]
  },
  {
   "cell_type": "code",
   "execution_count": 28,
   "metadata": {},
   "outputs": [
    {
     "name": "stdout",
     "output_type": "stream",
     "text": [
      "Indices of non-zero elements\n"
     ]
    },
    {
     "data": {
      "text/plain": [
       "(array([0, 1, 4], dtype=int64),)"
      ]
     },
     "execution_count": 28,
     "metadata": {},
     "output_type": "execute_result"
    }
   ],
   "source": [
    "a_7 = np.array([1,2,0,0,4,0])\n",
    "print ('Indices of non-zero elements')\n",
    "np.where(a_7 != 0)\n"
   ]
  },
  {
   "cell_type": "markdown",
   "metadata": {},
   "source": [
    "Create a 3x3x3 array with random values"
   ]
  },
  {
   "cell_type": "code",
   "execution_count": 30,
   "metadata": {},
   "outputs": [
    {
     "data": {
      "text/plain": [
       "array([[[0.37550797, 0.97531614, 0.48285938],\n",
       "        [0.36410782, 0.85039017, 0.02393929],\n",
       "        [0.49391528, 0.85246497, 0.08233241]],\n",
       "\n",
       "       [[0.95125343, 0.62473964, 0.64398647],\n",
       "        [0.08933419, 0.50316504, 0.53311858],\n",
       "        [0.65952065, 0.219445  , 0.08086053]],\n",
       "\n",
       "       [[0.29472733, 0.49756315, 0.65569656],\n",
       "        [0.65099274, 0.79191211, 0.8951244 ],\n",
       "        [0.55074358, 0.69842434, 0.454333  ]]])"
      ]
     },
     "execution_count": 30,
     "metadata": {},
     "output_type": "execute_result"
    }
   ],
   "source": [
    "array_8 = np.random.rand(3,3,3)\n",
    "array_8 "
   ]
  },
  {
   "cell_type": "markdown",
   "metadata": {},
   "source": [
    "Create a random vector of size 30 and find the mean value"
   ]
  },
  {
   "cell_type": "code",
   "execution_count": 33,
   "metadata": {},
   "outputs": [
    {
     "name": "stdout",
     "output_type": "stream",
     "text": [
      "[0.73151843 0.66649814 0.11594595 0.2660158  0.73713148 0.67511705\n",
      " 0.83377976 0.33443755 0.5949111  0.64144836 0.36183532 0.70508066\n",
      " 0.46968642 0.38094965 0.39819455 0.14371224 0.26648217 0.43933556\n",
      " 0.25693151 0.95355249 0.5625784  0.10866369 0.49529348 0.8307876\n",
      " 0.29582079 0.01398616 0.75511347 0.74040902 0.56057842 0.79982103]\n"
     ]
    },
    {
     "data": {
      "text/plain": [
       "0.5045205407298565"
      ]
     },
     "execution_count": 33,
     "metadata": {},
     "output_type": "execute_result"
    }
   ],
   "source": [
    "vector_9 = np.random.rand(30)\n",
    "print(vector_9)\n",
    "np.mean(vector_9)"
   ]
  },
  {
   "cell_type": "markdown",
   "metadata": {},
   "source": [
    "Create a 2d array with 1 on the border and 0 inside"
   ]
  },
  {
   "cell_type": "code",
   "execution_count": 42,
   "metadata": {},
   "outputs": [
    {
     "data": {
      "text/plain": [
       "array([[1., 1., 1., 1., 1., 1.],\n",
       "       [1., 0., 0., 0., 0., 1.],\n",
       "       [1., 0., 0., 0., 0., 1.],\n",
       "       [1., 0., 0., 0., 0., 1.],\n",
       "       [1., 0., 0., 0., 0., 1.],\n",
       "       [1., 1., 1., 1., 1., 1.]])"
      ]
     },
     "execution_count": 42,
     "metadata": {},
     "output_type": "execute_result"
    }
   ],
   "source": [
    "array_10 = np.ones(36).reshape(6,6)\n",
    "array_10[1:5,1:5] = 0\n",
    "array_10"
   ]
  },
  {
   "cell_type": "markdown",
   "metadata": {},
   "source": [
    "Create an 8x8 matrix and fill it with a checkerboard pattern"
   ]
  },
  {
   "cell_type": "code",
   "execution_count": 61,
   "metadata": {},
   "outputs": [
    {
     "data": {
      "text/plain": [
       "array([[0., 1., 0., 1., 0., 1., 0., 1.],\n",
       "       [1., 0., 1., 0., 1., 0., 1., 0.],\n",
       "       [0., 1., 0., 1., 0., 1., 0., 1.],\n",
       "       [1., 0., 1., 0., 1., 0., 1., 0.],\n",
       "       [0., 1., 0., 1., 0., 1., 0., 1.],\n",
       "       [1., 0., 1., 0., 1., 0., 1., 0.],\n",
       "       [0., 1., 0., 1., 0., 1., 0., 1.],\n",
       "       [1., 0., 1., 0., 1., 0., 1., 0.]])"
      ]
     },
     "execution_count": 61,
     "metadata": {},
     "output_type": "execute_result"
    }
   ],
   "source": [
    "matrix_11 = np.zeros(64).reshape(8,8)\n",
    "for row in range(8):\n",
    "    if row%2 == 0:\n",
    "        for col in range(8):\n",
    "            if col%2 != 0:\n",
    "                matrix_11[row,col] = 1\n",
    "    else:\n",
    "        for col in range(8):\n",
    "            if col%2 == 0:\n",
    "                matrix_11[row,col] = 1\n",
    "\n",
    "matrix_11"
   ]
  },
  {
   "cell_type": "markdown",
   "metadata": {},
   "source": [
    "What is the major difference between sets, lists, tuples and dictionaries?"
   ]
  },
  {
   "cell_type": "markdown",
   "metadata": {},
   "source": [
    "1.Order of elements:\n",
    "List items are ordered and changeable.\n",
    "Tuples items are ordedred but unchangeable.\n",
    "Dictionray items are unordered but changeable.\n",
    "Sets items are unordered\n",
    "2.How to write:\n",
    "List is written by square brackets.\n",
    "Tuple is written by round brackets.\n",
    "Dictionary is written with curly brackets, with keys and values.\n",
    "Set is written with curly brackets. "
   ]
  },
  {
   "cell_type": "markdown",
   "metadata": {},
   "source": [
    "Print first 10 natural numbers using while loop"
   ]
  },
  {
   "cell_type": "code",
   "execution_count": 22,
   "metadata": {},
   "outputs": [
    {
     "name": "stdout",
     "output_type": "stream",
     "text": [
      "First 10 natural numbers\n",
      "1\n",
      "2\n",
      "3\n",
      "4\n",
      "5\n",
      "6\n",
      "7\n",
      "8\n",
      "9\n",
      "10\n"
     ]
    }
   ],
   "source": [
    "i = 0\n",
    "print(\"First 10 natural numbers\")\n",
    "while i < 10:\n",
    "    i = i + 1\n",
    "    print(i)"
   ]
  },
  {
   "cell_type": "markdown",
   "metadata": {},
   "source": [
    "Print the numbers -10 to -1 using for loop."
   ]
  },
  {
   "cell_type": "code",
   "execution_count": 67,
   "metadata": {},
   "outputs": [
    {
     "name": "stdout",
     "output_type": "stream",
     "text": [
      "-10\n",
      "-9\n",
      "-8\n",
      "-7\n",
      "-6\n",
      "-5\n",
      "-4\n",
      "-3\n",
      "-2\n",
      "-1\n"
     ]
    }
   ],
   "source": [
    "i = -10\n",
    "for n in range(10):\n",
    "    print(i+n)"
   ]
  },
  {
   "cell_type": "markdown",
   "metadata": {},
   "source": [
    "Print the message “Done” after successful execution of any for a loop. "
   ]
  },
  {
   "cell_type": "code",
   "execution_count": 37,
   "metadata": {
    "scrolled": true
   },
   "outputs": [
    {
     "name": "stdout",
     "output_type": "stream",
     "text": [
      "-10\n",
      "-9\n",
      "-8\n",
      "-7\n",
      "-6\n",
      "-5\n",
      "-4\n",
      "-3\n",
      "-2\n",
      "-1\n",
      "Done\n"
     ]
    }
   ],
   "source": [
    "i = -10\n",
    "for n in range(10):\n",
    "    print(i+n)\n",
    "else: print(\"Done\")"
   ]
  },
  {
   "cell_type": "markdown",
   "metadata": {},
   "source": [
    "Create a random vector of size 10 and sort it"
   ]
  },
  {
   "cell_type": "code",
   "execution_count": 6,
   "metadata": {},
   "outputs": [
    {
     "name": "stdout",
     "output_type": "stream",
     "text": [
      "[0.7360926  0.1117431  0.122229   0.22255798 0.39467697 0.5220561\n",
      " 0.25609158 0.61575668 0.45663206 0.07520304]\n",
      "[0.07520304 0.1117431  0.122229   0.22255798 0.25609158 0.39467697\n",
      " 0.45663206 0.5220561  0.61575668 0.7360926 ]\n"
     ]
    }
   ],
   "source": [
    "vector_16 = np.random.rand(10)\n",
    "vector_16_sort = np.sort(vector_16)\n",
    "print(vector_16)\n",
    "print(vector_16_sort)"
   ]
  },
  {
   "cell_type": "markdown",
   "metadata": {},
   "source": [
    "Execute any three math functions using NumPy."
   ]
  },
  {
   "cell_type": "code",
   "execution_count": 36,
   "metadata": {},
   "outputs": [
    {
     "name": "stdout",
     "output_type": "stream",
     "text": [
      "[[0 1 2]\n",
      " [3 4 5]\n",
      " [6 7 8]] \n",
      "\n",
      " [ 9 10 11]\n",
      "\n",
      "the sum of elements following rows: [ 3 12 21]\n",
      "\n",
      "the multiply of two arrays:\n",
      " [[ 0 10 22]\n",
      " [27 40 55]\n",
      " [54 70 88]]\n",
      "\n",
      "min of array : 9\n"
     ]
    }
   ],
   "source": [
    "import math\n",
    "v1 = np.arange(9).reshape(3,3)\n",
    "v2 = np.arange(9,12)\n",
    "print(v1,'\\n\\n', v2)\n",
    "# Calculate the sum of elements following rows:\n",
    "print('\\nthe sum of elements following rows:',np.sum(v1, axis=1))\n",
    "# Calculate the multiply of two arrays:\n",
    "print('\\nthe multiply of two arrays:\\n', np.multiply(v1, v2))\n",
    "# Calculate the multiply of two arrays:\n",
    "print('\\nmin of array :', np.min(v2))"
   ]
  },
  {
   "cell_type": "code",
   "execution_count": null,
   "metadata": {},
   "outputs": [],
   "source": []
  }
 ],
 "metadata": {
  "kernelspec": {
   "display_name": "Python 3",
   "language": "python",
   "name": "python3"
  },
  "language_info": {
   "codemirror_mode": {
    "name": "ipython",
    "version": 3
   },
   "file_extension": ".py",
   "mimetype": "text/x-python",
   "name": "python",
   "nbconvert_exporter": "python",
   "pygments_lexer": "ipython3",
   "version": "3.8.5"
  }
 },
 "nbformat": 4,
 "nbformat_minor": 4
}
