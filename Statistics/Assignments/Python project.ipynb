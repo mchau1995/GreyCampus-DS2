{
 "cells": [
  {
   "cell_type": "markdown",
   "metadata": {},
   "source": [
    "Create a program in Python, to check if a given number is prime.\n",
    "\n",
    "Add a function to take user input.\n",
    "\n",
    "Also must have a function where the number is predetermined.\n",
    "\n",
    "Use if...else\n",
    "\n",
    "Use loops (Which one? Its your job to think)\n",
    "\n",
    "If the number is prime or not should be printed as an output.\n",
    "\n",
    "I need interpretation as comments at each chunk of code."
   ]
  },
  {
   "cell_type": "code",
   "execution_count": 28,
   "metadata": {},
   "outputs": [],
   "source": [
    "def isprimeornot ():\n",
    "# Add a function to take user input\n",
    "    x = input(\"Please enter your number: \")\n",
    "#Also must have a function used to determine this value as an integer. We get absolute value of x for the next calculation.\n",
    "    val = abs(int(x))\n",
    "    s = 0    \n",
    "#Use for loop junction to divide x by all numbers from 2 to (val-1). Then we count the number of cases in which the remainder of this division is 0 by s value.\n",
    "    for i in range(2,val):\n",
    "        if val % i == 0:\n",
    "            s = s + 1\n",
    "# Prime number is divisible only by itself and 1; hence, if the count value s > 0, it means that this number is divisible to other number, except 1 and it. \n",
    "#Therefore, it is not prime number\n",
    "    if s > 0:print(x, \"is not a prime number.\")\n",
    "    else: print(x, \"is a prime number.\")\n"
   ]
  },
  {
   "cell_type": "code",
   "execution_count": 32,
   "metadata": {},
   "outputs": [
    {
     "name": "stdout",
     "output_type": "stream",
     "text": [
      "Please enter your number: 1009\n",
      "1009 is a prime number\n"
     ]
    }
   ],
   "source": [
    "isprimeornot()"
   ]
  },
  {
   "cell_type": "code",
   "execution_count": null,
   "metadata": {},
   "outputs": [],
   "source": []
  }
 ],
 "metadata": {
  "kernelspec": {
   "display_name": "Python 3",
   "language": "python",
   "name": "python3"
  },
  "language_info": {
   "codemirror_mode": {
    "name": "ipython",
    "version": 3
   },
   "file_extension": ".py",
   "mimetype": "text/x-python",
   "name": "python",
   "nbconvert_exporter": "python",
   "pygments_lexer": "ipython3",
   "version": "3.8.5"
  }
 },
 "nbformat": 4,
 "nbformat_minor": 4
}
